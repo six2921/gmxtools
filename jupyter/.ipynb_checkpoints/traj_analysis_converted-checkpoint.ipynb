{
 "cells": [
  {
   "cell_type": "code",
   "execution_count": null,
   "metadata": {
    "tags": [
     "parameters"
    ]
   },
   "outputs": [],
   "source": [
    "wd = \"default_value\"\n",
    "gro = 'md.gro'  # .gro 파일 경로\n",
    "xtc = 'md1.xtc'  # .xtc 파일 경로"
   ]
  },
  {
   "cell_type": "code",
   "execution_count": null,
   "metadata": {},
   "outputs": [],
   "source": [
    "import os\n",
    "import MDAnalysis as mda\n",
    "import pandas as pd\n",
    "import numpy as np\n",
    "from MDAnalysis.analysis import rms\n",
    "from MDAnalysis.analysis.rms import RMSF\n",
    "import matplotlib.pyplot as plt\n",
    "import time"
   ]
  },
  {
   "cell_type": "markdown",
   "metadata": {},
   "source": [
    "### 파일 경로 설정"
   ]
  },
  {
   "cell_type": "code",
   "execution_count": null,
   "metadata": {},
   "outputs": [],
   "source": [
    "os.chdir(wd)"
   ]
  },
  {
   "cell_type": "markdown",
   "metadata": {},
   "source": [
    "### MDAnalysis Universe 생성 및 시스템 정보 출력"
   ]
  },
  {
   "cell_type": "code",
   "execution_count": null,
   "metadata": {},
   "outputs": [],
   "source": [
    "u = mda.Universe(gro, xtc)\n",
    "protein = u.select_atoms('protein')\n",
    "ligands = u.select_atoms('not (protein or resname SOL or resname NA or resname CL)')\n",
    "num_protein_residues = len(protein.residues)\n",
    "num_ligand_residues = len(ligands.residues)\n",
    "num_frames = len(u.trajectory)\n",
    "print(f'Residues, Frames: {num_protein_residues}, {num_frames}')"
   ]
  },
  {
   "cell_type": "markdown",
   "metadata": {},
   "source": [
    "### 단백질 및 리간드의 RMSD 계산"
   ]
  },
  {
   "cell_type": "code",
   "execution_count": null,
   "metadata": {},
   "outputs": [],
   "source": [
    "# 단백질 RMSD\n",
    "rmsd_protein = rms.RMSD(protein, ref_frame=0)\n",
    "rmsd_protein.run()\n",
    "protein_rmsd = rmsd_protein.results.rmsd[:, 2]\n",
    "\n",
    "# 리간드 RMSD\n",
    "rmsd_ligands = {}\n",
    "for residue in ligands.residues:\n",
    "    ligand_name = f'{residue.resname}{residue.resid}'\n",
    "    ligand_atoms = u.select_atoms(f'resname {residue.resname} and resid {residue.resid}')\n",
    "    rmsd_ligand = rms.RMSD(ligand_atoms, ref_frame=0)\n",
    "    rmsd_ligand.run()\n",
    "    rmsd_ligands[ligand_name] = rmsd_ligand.results.rmsd[:, 2]\n",
    "\n",
    "# 결과 저장\n",
    "rmsd_results = pd.DataFrame({'Step': np.arange(len(protein_rmsd)), 'Protein': protein_rmsd.round(2)})\n",
    "for ligand, rmsd in rmsd_ligands.items():\n",
    "    rmsd_results[ligand] = rmsd.round(2)\n",
    "rmsd_results.to_csv('res_rmsd.csv', index=False)"
   ]
  },
  {
   "cell_type": "markdown",
   "metadata": {},
   "source": [
    "### RMSD 그래프 그리기"
   ]
  },
  {
   "cell_type": "code",
   "execution_count": null,
   "metadata": {},
   "outputs": [],
   "source": [
    "plt.figure(figsize=(6, 3))\n",
    "for column in rmsd_results.columns[1:]:\n",
    "    plt.plot(rmsd_results['Step'], rmsd_results[column], label=column)\n",
    "plt.title('RMSD', fontsize=16)\n",
    "plt.xlabel('Step', fontsize=14)\n",
    "plt.legend(fontsize=12)\n",
    "plt.grid(True)\n",
    "plt.tight_layout()\n",
    "plt.savefig('res_rmsd.png')\n",
    "plt.show()\n",
    "plt.close()"
   ]
  },
  {
   "cell_type": "markdown",
   "metadata": {},
   "source": [
    "### 단백질 RMSF 계산"
   ]
  },
  {
   "cell_type": "code",
   "execution_count": null,
   "metadata": {},
   "outputs": [],
   "source": [
    "all_atoms = u.select_atoms('not (resname SOL or resname NA or resname CL)')\n",
    "rmsf_protein = RMSF(all_atoms)\n",
    "rmsf_protein.run()\n",
    "\n",
    "rmsf_results = []\n",
    "for residue in all_atoms.residues:\n",
    "    resname_resid = f'{residue.resname}{residue.resid}'\n",
    "    atom_rmsfs = rmsf_protein.results.rmsf[residue.atoms.indices]\n",
    "    mean_rmsf = np.round(np.mean(atom_rmsfs), 2)\n",
    "    rmsf_results.append((resname_resid, mean_rmsf))\n",
    "\n",
    "rmsf_df = pd.DataFrame(rmsf_results, columns=['Residue', 'RMSF'])\n",
    "rmsf_df.to_csv('res_rmsf.csv', index=False)\n"
   ]
  },
  {
   "cell_type": "markdown",
   "metadata": {},
   "source": [
    "### RMSF 그래프 그리기"
   ]
  },
  {
   "cell_type": "code",
   "execution_count": null,
   "metadata": {},
   "outputs": [],
   "source": [
    "plt.figure(figsize=(len(rmsf_df) * 0.25, 6))\n",
    "plt.bar(range(len(rmsf_df)), rmsf_df['RMSF'], width=0.8, color='skyblue')\n",
    "plt.xticks(range(len(rmsf_df)), rmsf_df['Residue'], rotation=90)\n",
    "plt.xlim(-0.5, len(rmsf_df) - 0.5)\n",
    "plt.xlabel('Residue', fontsize=14)\n",
    "plt.title('RMSF', fontsize=16)\n",
    "plt.grid(axis='y', linestyle='--', alpha=0.7)\n",
    "plt.tight_layout()\n",
    "plt.savefig('res_rmsf.png')\n",
    "plt.show()\n",
    "plt.close()"
   ]
  },
  {
   "cell_type": "code",
   "execution_count": null,
   "metadata": {},
   "outputs": [],
   "source": []
  }
 ],
 "metadata": {
  "kernelspec": {
   "display_name": "Python 3 (ipykernel)",
   "language": "python",
   "name": "python3"
  },
  "language_info": {
   "codemirror_mode": {
    "name": "ipython",
    "version": 3
   },
   "file_extension": ".py",
   "mimetype": "text/x-python",
   "name": "python",
   "nbconvert_exporter": "python",
   "pygments_lexer": "ipython3",
   "version": "3.8.19"
  }
 },
 "nbformat": 4,
 "nbformat_minor": 4
}
