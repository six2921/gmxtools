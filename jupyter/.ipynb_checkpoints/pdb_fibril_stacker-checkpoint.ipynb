{
 "cells": [
  {
   "cell_type": "code",
   "execution_count": 1,
   "id": "8aa7125c",
   "metadata": {},
   "outputs": [
    {
     "name": "stdout",
     "output_type": "stream",
     "text": [
      "/home/siu/gmxtools/jupyter\n"
     ]
    }
   ],
   "source": [
    "import os\n",
    "os.chdir(os.path.dirname(os.path.abspath('__file__')))\n",
    "os.chdir(\"./\")\n",
    "print(os.getcwd())"
   ]
  },
  {
   "cell_type": "code",
   "execution_count": 2,
   "id": "6d155dc0-988a-47e0-855c-2474ab9ec056",
   "metadata": {},
   "outputs": [],
   "source": [
    "# pip install wget\n",
    "# conda install -c conda-forge biopython nglview\n",
    "# Reload Browser"
   ]
  },
  {
   "cell_type": "code",
   "execution_count": 3,
   "id": "54d4d1de-13b9-41ad-af81-14f716b5e6f7",
   "metadata": {},
   "outputs": [
    {
     "data": {
      "application/vnd.jupyter.widget-view+json": {
       "model_id": "208a4da1f91b463f9de2716554dc138f",
       "version_major": 2,
       "version_minor": 0
      },
      "text/plain": []
     },
     "metadata": {},
     "output_type": "display_data"
    },
    {
     "name": "stdout",
     "output_type": "stream",
     "text": [
      "-1 / unknownDownloaded 6cu7.pdb\n"
     ]
    }
   ],
   "source": [
    "# 1단계: PDB 파일 다운로드\n",
    "import wget\n",
    "from Bio.PDB import PDBParser\n",
    "import nglview as nv\n",
    "\n",
    "# 예시 PDB ID\n",
    "pdb_id = \"6cu7\"  # 원하는 PDB ID를 여기에 입력\n",
    "\n",
    "# wget 명령어 실행\n",
    "url = f\"https://files.rcsb.org/download/{pdb_id}.pdb\"\n",
    "pdb_file = f\"{pdb_id}.pdb\"\n",
    "filename = wget.download(url, pdb_file)\n",
    "\n",
    "print(f\"Downloaded {filename}\")"
   ]
  },
  {
   "cell_type": "code",
   "execution_count": 4,
   "id": "5926f921-18e4-47a8-b99f-a3f364c31f2a",
   "metadata": {},
   "outputs": [
    {
     "data": {
      "application/vnd.jupyter.widget-view+json": {
       "model_id": "964e614898884933aef5922adc9a7b54",
       "version_major": 2,
       "version_minor": 0
      },
      "text/plain": [
       "NGLWidget()"
      ]
     },
     "metadata": {},
     "output_type": "display_data"
    }
   ],
   "source": [
    "# PDB 파일 로드 및 구조 시각화\n",
    "parser = PDBParser(QUIET=True)\n",
    "structure = parser.get_structure('structure', f\"{pdb_id}.pdb\")\n",
    "\n",
    "# NGLView로 단백질 구조 시각화\n",
    "view = nv.show_biopython(structure)\n",
    "view.add_representation('cartoon')\n",
    "view"
   ]
  },
  {
   "cell_type": "code",
   "execution_count": 5,
   "id": "55b382c2-4a11-4174-9e62-e69f6b4c2ee3",
   "metadata": {},
   "outputs": [
    {
     "name": "stdout",
     "output_type": "stream",
     "text": [
      "Interchain Distance: 4.855152130126953 Å\n"
     ]
    }
   ],
   "source": [
    "from Bio.PDB import PDBParser\n",
    "import numpy as np\n",
    "\n",
    "# 2단계: 두 체인의 센트로이드 간 거리 측정\n",
    "\n",
    "# PDB 파일 로드\n",
    "parser = PDBParser(QUIET=True)\n",
    "structure = parser.get_structure('structure', f\"{pdb_id}.pdb\")\n",
    "\n",
    "# 체인 A와 B 선택\n",
    "chainA = structure[0]['B']  # 원하는 체인 ID로 변경 가능\n",
    "chainB = structure[0]['D']  # 원하는 체인 ID로 변경 가능\n",
    "\n",
    "# 센트로이드 계산 함수\n",
    "def calculate_centroid(chain):\n",
    "    coords = [atom.coord for atom in chain.get_atoms()]\n",
    "    centroid = np.mean(coords, axis=0)\n",
    "    return centroid\n",
    "\n",
    "# 체인 A와 B의 센트로이드 계산\n",
    "centroidA = calculate_centroid(chainA)\n",
    "centroidB = calculate_centroid(chainB)\n",
    "\n",
    "# 두 센트로이드 간의 거리 계산\n",
    "interchain_distance = np.linalg.norm(centroidA - centroidB)\n",
    "print(f\"Interchain Distance: {interchain_distance} Å\")\n"
   ]
  },
  {
   "cell_type": "code",
   "execution_count": 6,
   "id": "947fa47a-03a2-4c3a-9344-fd23227e5386",
   "metadata": {},
   "outputs": [
    {
     "name": "stdout",
     "output_type": "stream",
     "text": [
      "Translated PDB saved to: 6cu7_translated.pdb\n"
     ]
    }
   ],
   "source": [
    "from Bio.PDB import PDBIO\n",
    "\n",
    "# 3단계: 축 방향으로 구조 이동\n",
    "\n",
    "# n 값과 축 방향 지정\n",
    "n_dist = 5  # 원하는 n 값을 여기에 입력\n",
    "axis = 'z'  # 이동시킬 축 ('x', 'y', 'z')\n",
    "\n",
    "# 축 인덱스 설정\n",
    "axis_index = {'x': 0, 'y': 1, 'z': 2}[axis]\n",
    "\n",
    "# 구조 이동\n",
    "translation_distance = interchain_distance * n_dist\n",
    "for atom in structure.get_atoms():\n",
    "    atom.coord[axis_index] += translation_distance\n",
    "\n",
    "# 이동된 구조를 새로운 PDB 파일로 저장\n",
    "output_translated_pdb = f\"{pdb_id}_translated.pdb\"\n",
    "io = PDBIO()\n",
    "io.set_structure(structure)\n",
    "io.save(output_translated_pdb)\n",
    "\n",
    "print(f\"Translated PDB saved to: {output_translated_pdb}\")\n"
   ]
  },
  {
   "cell_type": "code",
   "execution_count": 7,
   "id": "79fa7871-dcf3-40a0-ba80-5177952fb6ae",
   "metadata": {},
   "outputs": [
    {
     "name": "stdout",
     "output_type": "stream",
     "text": [
      "Renamed chains PDB saved to: 6cu7_renamed_chains.pdb\n"
     ]
    }
   ],
   "source": [
    "from Bio.PDB import PDBParser, PDBIO\n",
    "import string\n",
    "\n",
    "# 4단계: 체인 이름 변경\n",
    "\n",
    "# 원본 구조 로드\n",
    "original_structure = parser.get_structure('original_structure', f\"{pdb_id}.pdb\")\n",
    "original_chain_ids = sorted({chain.id for chain in original_structure.get_chains() if len(chain.id.strip()) == 1 and chain.id.strip() in string.ascii_uppercase})\n",
    "\n",
    "# 원본의 마지막 체인 ID 찾기\n",
    "if original_chain_ids:\n",
    "    last_chain_id = original_chain_ids[-1]\n",
    "else:\n",
    "    last_chain_id = 'A'  # 원본 체인이 없을 경우 기본값\n",
    "\n",
    "# 다음 체인 ID 목록 생성\n",
    "all_chain_ids = list(string.ascii_uppercase)\n",
    "start_index = all_chain_ids.index(last_chain_id) + 1\n",
    "new_chain_ids = all_chain_ids[start_index:]\n",
    "\n",
    "# 시프트된 구조 로드\n",
    "shifted_structure = parser.get_structure('shifted_structure', output_translated_pdb)\n",
    "shifted_chains = [chain for chain in shifted_structure.get_chains() if len(chain.id.strip()) == 1 and chain.id.strip() in string.ascii_uppercase]\n",
    "\n",
    "# 체인 이름 변경\n",
    "for chain, new_id in zip(shifted_chains, new_chain_ids):\n",
    "    chain.id = new_id\n",
    "\n",
    "# 변경된 구조를 새로운 PDB 파일로 저장\n",
    "output_renamed_pdb = f\"{pdb_id}_renamed_chains.pdb\"\n",
    "io.set_structure(shifted_structure)\n",
    "io.save(output_renamed_pdb)\n",
    "\n",
    "print(f\"Renamed chains PDB saved to: {output_renamed_pdb}\")\n"
   ]
  },
  {
   "cell_type": "code",
   "execution_count": 8,
   "id": "c5a6137f-7de5-4f9f-8e47-56f4a380384b",
   "metadata": {},
   "outputs": [
    {
     "name": "stdout",
     "output_type": "stream",
     "text": [
      "Stacked PDB saved to: 6cu7_stacked.pdb\n"
     ]
    }
   ],
   "source": [
    "from Bio.PDB import PDBParser, PDBIO, Structure, Model\n",
    "\n",
    "# 5단계: 두 PDB 파일 병합\n",
    "\n",
    "# 원본 구조 로드\n",
    "original_pdb_file = f\"{pdb_id}.pdb\"\n",
    "renamed_pdb_file = output_renamed_pdb\n",
    "output_stacked_pdb_file = f\"{pdb_id}_stacked.pdb\"\n",
    "\n",
    "original_structure = parser.get_structure('original_structure', original_pdb_file)\n",
    "renamed_structure = parser.get_structure('renamed_structure', renamed_pdb_file)\n",
    "\n",
    "# 새로운 구조 생성\n",
    "merged_structure = Structure.Structure('merged_structure')\n",
    "merged_model = Model.Model(0)  # 단일 모델 사용\n",
    "merged_structure.add(merged_model)\n",
    "\n",
    "# 원본 체인을 새 모델에 추가\n",
    "for chain in original_structure[0]:\n",
    "    merged_model.add(chain)\n",
    "\n",
    "# 이름이 변경된 체인을 새 모델에 추가\n",
    "for chain in renamed_structure[0]:\n",
    "    merged_model.add(chain)\n",
    "\n",
    "# 병합된 구조를 새로운 PDB 파일로 저장\n",
    "io.set_structure(merged_structure)\n",
    "io.save(output_stacked_pdb_file)\n",
    "\n",
    "print(f\"Stacked PDB saved to: {output_stacked_pdb_file}\")\n"
   ]
  },
  {
   "cell_type": "code",
   "execution_count": 9,
   "id": "9dac53ab-a141-4770-8449-f6898672aecb",
   "metadata": {},
   "outputs": [
    {
     "data": {
      "application/vnd.jupyter.widget-view+json": {
       "model_id": "ce40da55b3b243af8d823320bdbbdfdf",
       "version_major": 2,
       "version_minor": 0
      },
      "text/plain": [
       "NGLWidget()"
      ]
     },
     "metadata": {},
     "output_type": "display_data"
    }
   ],
   "source": [
    "# PDB 파일 로드 및 구조 시각화\n",
    "parser = PDBParser(QUIET=True)\n",
    "structure = parser.get_structure('structure', output_stacked_pdb_file)\n",
    "\n",
    "# NGLView로 단백질 구조 시각화\n",
    "view = nv.show_biopython(structure)\n",
    "view.add_representation('cartoon')\n",
    "view"
   ]
  }
 ],
 "metadata": {
  "kernelspec": {
   "display_name": "Python 3 (ipykernel)",
   "language": "python",
   "name": "python3"
  },
  "language_info": {
   "codemirror_mode": {
    "name": "ipython",
    "version": 3
   },
   "file_extension": ".py",
   "mimetype": "text/x-python",
   "name": "python",
   "nbconvert_exporter": "python",
   "pygments_lexer": "ipython3",
   "version": "3.12.2"
  }
 },
 "nbformat": 4,
 "nbformat_minor": 5
}
